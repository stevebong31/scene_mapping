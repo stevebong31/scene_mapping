{
 "cells": [
  {
   "cell_type": "code",
   "execution_count": 1,
   "metadata": {},
   "outputs": [
    {
     "name": "stderr",
     "output_type": "stream",
     "text": [
      "Using TensorFlow backend.\n"
     ]
    }
   ],
   "source": [
    "from keras import backend as k\n",
    "from keras import applications, optimizers, losses, layers\n",
    "from keras.utils.training_utils import multi_gpu_model\n",
    "\n",
    "from keras import layers ,losses\n",
    "from keras.layers import Dropout, Input, Flatten, Dense, GlobalMaxPooling2D, Activation, TimeDistributed\n",
    "from keras.models import Sequential, Model\n",
    "from keras.preprocessing import image\n",
    "from keras.applications.vgg16 import preprocess_input\n",
    "from keras.layers.convolutional import Conv2D\n",
    "%matplotlib inline\n",
    "import matplotlib.pyplot as plt\n",
    "import pandas as pd\n",
    "import numpy as np\n",
    "import cv2\n",
    "import math\n",
    "import csv\n",
    "import os\n",
    "import tqdm"
   ]
  },
  {
   "cell_type": "code",
   "execution_count": 2,
   "metadata": {},
   "outputs": [],
   "source": [
    "path = './img_aug_sample/'\n",
    "list_file = os.listdir(path)\n",
    "\n",
    "labels = list([i[:9] for i in list_file])\n",
    "data_list = list(set([i[:9] for i in list_file]))\n",
    "\n",
    "keys = ['_OR', '_BN', '_BP', '_GN', '_GP']\n",
    "degree = ['_0000', '_0090', '_0180', '_0270']"
   ]
  },
  {
   "cell_type": "code",
   "execution_count": 3,
   "metadata": {},
   "outputs": [
    {
     "name": "stdout",
     "output_type": "stream",
     "text": [
      "======================\n",
      "0385_0292_0000_OR.jpg\n",
      "0385_0292_0090_OR.jpg\n",
      "0385_0292_0180_OR.jpg\n",
      "0385_0292_0270_OR.jpg\n",
      "======================\n",
      "======================\n",
      "0385_0292_0000_BN.jpg\n",
      "0385_0292_0090_BN.jpg\n",
      "0385_0292_0180_BN.jpg\n",
      "0385_0292_0270_BN.jpg\n",
      "======================\n",
      "======================\n",
      "0385_0292_0000_BP.jpg\n",
      "0385_0292_0090_BP.jpg\n",
      "0385_0292_0180_BP.jpg\n",
      "0385_0292_0270_BP.jpg\n",
      "======================\n",
      "======================\n",
      "0385_0292_0000_GN.jpg\n",
      "0385_0292_0090_GN.jpg\n",
      "0385_0292_0180_GN.jpg\n",
      "0385_0292_0270_GN.jpg\n",
      "======================\n",
      "======================\n",
      "0385_0292_0000_GP.jpg\n",
      "0385_0292_0090_GP.jpg\n",
      "0385_0292_0180_GP.jpg\n",
      "0385_0292_0270_GP.jpg\n",
      "======================\n",
      "======================\n",
      "0385_0382_0000_OR.jpg\n",
      "0385_0382_0090_OR.jpg\n",
      "0385_0382_0180_OR.jpg\n",
      "0385_0382_0270_OR.jpg\n",
      "======================\n",
      "======================\n",
      "0385_0382_0000_BN.jpg\n",
      "0385_0382_0090_BN.jpg\n",
      "0385_0382_0180_BN.jpg\n",
      "0385_0382_0270_BN.jpg\n",
      "======================\n",
      "======================\n",
      "0385_0382_0000_BP.jpg\n",
      "0385_0382_0090_BP.jpg\n",
      "0385_0382_0180_BP.jpg\n",
      "0385_0382_0270_BP.jpg\n",
      "======================\n",
      "======================\n",
      "0385_0382_0000_GN.jpg\n",
      "0385_0382_0090_GN.jpg\n",
      "0385_0382_0180_GN.jpg\n",
      "0385_0382_0270_GN.jpg\n",
      "======================\n",
      "======================\n",
      "0385_0382_0000_GP.jpg\n",
      "0385_0382_0090_GP.jpg\n",
      "0385_0382_0180_GP.jpg\n",
      "0385_0382_0270_GP.jpg\n",
      "======================\n",
      "======================\n",
      "0385_0202_0000_OR.jpg\n",
      "0385_0202_0090_OR.jpg\n",
      "0385_0202_0180_OR.jpg\n",
      "0385_0202_0270_OR.jpg\n",
      "======================\n",
      "======================\n",
      "0385_0202_0000_BN.jpg\n",
      "0385_0202_0090_BN.jpg\n",
      "0385_0202_0180_BN.jpg\n",
      "0385_0202_0270_BN.jpg\n",
      "======================\n",
      "======================\n",
      "0385_0202_0000_BP.jpg\n",
      "0385_0202_0090_BP.jpg\n",
      "0385_0202_0180_BP.jpg\n",
      "0385_0202_0270_BP.jpg\n",
      "======================\n",
      "======================\n",
      "0385_0202_0000_GN.jpg\n",
      "0385_0202_0090_GN.jpg\n",
      "0385_0202_0180_GN.jpg\n",
      "0385_0202_0270_GN.jpg\n",
      "======================\n",
      "======================\n",
      "0385_0202_0000_GP.jpg\n",
      "0385_0202_0090_GP.jpg\n",
      "0385_0202_0180_GP.jpg\n",
      "0385_0202_0270_GP.jpg\n",
      "======================\n",
      "======================\n",
      "0385_0472_0000_OR.jpg\n",
      "0385_0472_0090_OR.jpg\n",
      "0385_0472_0180_OR.jpg\n",
      "0385_0472_0270_OR.jpg\n",
      "======================\n",
      "======================\n",
      "0385_0472_0000_BN.jpg\n",
      "0385_0472_0090_BN.jpg\n",
      "0385_0472_0180_BN.jpg\n",
      "0385_0472_0270_BN.jpg\n",
      "======================\n",
      "======================\n",
      "0385_0472_0000_BP.jpg\n",
      "0385_0472_0090_BP.jpg\n",
      "0385_0472_0180_BP.jpg\n",
      "0385_0472_0270_BP.jpg\n",
      "======================\n",
      "======================\n",
      "0385_0472_0000_GN.jpg\n",
      "0385_0472_0090_GN.jpg\n",
      "0385_0472_0180_GN.jpg\n",
      "0385_0472_0270_GN.jpg\n",
      "======================\n",
      "======================\n",
      "0385_0472_0000_GP.jpg\n",
      "0385_0472_0090_GP.jpg\n",
      "0385_0472_0180_GP.jpg\n",
      "0385_0472_0270_GP.jpg\n",
      "======================\n",
      "======================\n",
      "0385_0247_0000_OR.jpg\n",
      "0385_0247_0090_OR.jpg\n",
      "0385_0247_0180_OR.jpg\n",
      "0385_0247_0270_OR.jpg\n",
      "======================\n",
      "======================\n",
      "0385_0247_0000_BN.jpg\n",
      "0385_0247_0090_BN.jpg\n",
      "0385_0247_0180_BN.jpg\n",
      "0385_0247_0270_BN.jpg\n",
      "======================\n",
      "======================\n",
      "0385_0247_0000_BP.jpg\n",
      "0385_0247_0090_BP.jpg\n",
      "0385_0247_0180_BP.jpg\n",
      "0385_0247_0270_BP.jpg\n",
      "======================\n",
      "======================\n",
      "0385_0247_0000_GN.jpg\n",
      "0385_0247_0090_GN.jpg\n",
      "0385_0247_0180_GN.jpg\n",
      "0385_0247_0270_GN.jpg\n",
      "======================\n",
      "======================\n",
      "0385_0247_0000_GP.jpg\n",
      "0385_0247_0090_GP.jpg\n",
      "0385_0247_0180_GP.jpg\n",
      "0385_0247_0270_GP.jpg\n",
      "======================\n",
      "======================\n",
      "0385_0337_0000_OR.jpg\n",
      "0385_0337_0090_OR.jpg\n",
      "0385_0337_0180_OR.jpg\n",
      "0385_0337_0270_OR.jpg\n",
      "======================\n",
      "======================\n",
      "0385_0337_0000_BN.jpg\n",
      "0385_0337_0090_BN.jpg\n",
      "0385_0337_0180_BN.jpg\n",
      "0385_0337_0270_BN.jpg\n",
      "======================\n",
      "======================\n",
      "0385_0337_0000_BP.jpg\n",
      "0385_0337_0090_BP.jpg\n",
      "0385_0337_0180_BP.jpg\n",
      "0385_0337_0270_BP.jpg\n",
      "======================\n",
      "======================\n",
      "0385_0337_0000_GN.jpg\n",
      "0385_0337_0090_GN.jpg\n",
      "0385_0337_0180_GN.jpg\n",
      "0385_0337_0270_GN.jpg\n",
      "======================\n",
      "======================\n",
      "0385_0337_0000_GP.jpg\n",
      "0385_0337_0090_GP.jpg\n",
      "0385_0337_0180_GP.jpg\n",
      "0385_0337_0270_GP.jpg\n",
      "======================\n",
      "======================\n",
      "0385_0517_0000_OR.jpg\n",
      "0385_0517_0090_OR.jpg\n",
      "0385_0517_0180_OR.jpg\n",
      "0385_0517_0270_OR.jpg\n",
      "======================\n",
      "======================\n",
      "0385_0517_0000_BN.jpg\n",
      "0385_0517_0090_BN.jpg\n",
      "0385_0517_0180_BN.jpg\n",
      "0385_0517_0270_BN.jpg\n",
      "======================\n",
      "======================\n",
      "0385_0517_0000_BP.jpg\n",
      "0385_0517_0090_BP.jpg\n",
      "0385_0517_0180_BP.jpg\n",
      "0385_0517_0270_BP.jpg\n",
      "======================\n",
      "======================\n",
      "0385_0517_0000_GN.jpg\n",
      "0385_0517_0090_GN.jpg\n",
      "0385_0517_0180_GN.jpg\n",
      "0385_0517_0270_GN.jpg\n",
      "======================\n",
      "======================\n",
      "0385_0517_0000_GP.jpg\n",
      "0385_0517_0090_GP.jpg\n",
      "0385_0517_0180_GP.jpg\n",
      "0385_0517_0270_GP.jpg\n",
      "======================\n",
      "======================\n",
      "0385_0562_0000_OR.jpg\n",
      "0385_0562_0090_OR.jpg\n",
      "0385_0562_0180_OR.jpg\n",
      "0385_0562_0270_OR.jpg\n",
      "======================\n",
      "======================\n",
      "0385_0562_0000_BN.jpg\n",
      "0385_0562_0090_BN.jpg\n",
      "0385_0562_0180_BN.jpg\n",
      "0385_0562_0270_BN.jpg\n",
      "======================\n",
      "======================\n",
      "0385_0562_0000_BP.jpg\n",
      "0385_0562_0090_BP.jpg\n",
      "0385_0562_0180_BP.jpg\n",
      "0385_0562_0270_BP.jpg\n",
      "======================\n",
      "======================\n",
      "0385_0562_0000_GN.jpg\n",
      "0385_0562_0090_GN.jpg\n",
      "0385_0562_0180_GN.jpg\n",
      "0385_0562_0270_GN.jpg\n",
      "======================\n",
      "======================\n",
      "0385_0562_0000_GP.jpg\n",
      "0385_0562_0090_GP.jpg\n",
      "0385_0562_0180_GP.jpg\n",
      "0385_0562_0270_GP.jpg\n",
      "======================\n",
      "======================\n",
      "0385_0427_0000_OR.jpg\n",
      "0385_0427_0090_OR.jpg\n",
      "0385_0427_0180_OR.jpg\n",
      "0385_0427_0270_OR.jpg\n",
      "======================\n",
      "======================\n",
      "0385_0427_0000_BN.jpg\n",
      "0385_0427_0090_BN.jpg\n",
      "0385_0427_0180_BN.jpg\n",
      "0385_0427_0270_BN.jpg\n",
      "======================\n",
      "======================\n",
      "0385_0427_0000_BP.jpg\n",
      "0385_0427_0090_BP.jpg\n",
      "0385_0427_0180_BP.jpg\n",
      "0385_0427_0270_BP.jpg\n",
      "======================\n",
      "======================\n",
      "0385_0427_0000_GN.jpg\n",
      "0385_0427_0090_GN.jpg\n",
      "0385_0427_0180_GN.jpg\n",
      "0385_0427_0270_GN.jpg\n",
      "======================\n",
      "======================\n",
      "0385_0427_0000_GP.jpg\n",
      "0385_0427_0090_GP.jpg\n",
      "0385_0427_0180_GP.jpg\n",
      "0385_0427_0270_GP.jpg\n",
      "======================\n"
     ]
    }
   ],
   "source": [
    "imgs = []\n",
    "labs = []\n",
    "for data in data_list:\n",
    "    for key in keys:\n",
    "        img = []\n",
    "        print('======================')\n",
    "        for deg in degree:\n",
    "            print(data+deg+key+'.jpg')\n",
    "            img.append(preprocess_input(cv2.imread(os.path.join(path, data+deg+key+'.jpg'))))\n",
    "        print('======================')\n",
    "        imgs.append(img)\n",
    "        labs.append([int(data.split('_')[0]), int(data.split('_')[1])])\n",
    "imgs = np.array(imgs)\n",
    "labs = np.array(labs)/768."
   ]
  },
  {
   "cell_type": "code",
   "execution_count": 4,
   "metadata": {},
   "outputs": [
    {
     "name": "stderr",
     "output_type": "stream",
     "text": [
      "/usr/local/lib/python3.5/dist-packages/keras_applications/resnet50.py:263: UserWarning: The output shape of `ResNet50(include_top=False)` has been changed since Keras 2.2.0.\n",
      "  warnings.warn('The output shape of `ResNet50(include_top=False)` '\n"
     ]
    }
   ],
   "source": [
    "img_width, img_height = 300, 400\n",
    "vgg16_model = applications.VGG16(weights= 'imagenet', include_top=False, input_shape = (img_height, img_width,3))\n",
    "x = GlobalMaxPooling2D()(vgg16_model.output)\n",
    "\n",
    "vggmodel = Model(inputs = vgg16_model.input, outputs = x)\n",
    "vggmodel.trainable = False"
   ]
  },
  {
   "cell_type": "code",
   "execution_count": 5,
   "metadata": {
    "scrolled": false
   },
   "outputs": [],
   "source": [
    "inputs = Input(shape=(4,400,300,3))\n",
    "\n",
    "x = TimeDistributed(vggmodel)(inputs)\n",
    "x = Flatten()(x)\n",
    "x = Dense(1024, activation='relu')(x)\n",
    "x = Dense(512, activation='relu')(x)\n",
    "x = Dense(2)(x)\n",
    "x = layers.ReLU(max_value=1)(x)\n",
    "\n",
    "model = Model(inputs = inputs, outputs = x)"
   ]
  },
  {
   "cell_type": "code",
   "execution_count": 6,
   "metadata": {},
   "outputs": [
    {
     "name": "stdout",
     "output_type": "stream",
     "text": [
      "_________________________________________________________________\n",
      "Layer (type)                 Output Shape              Param #   \n",
      "=================================================================\n",
      "input_2 (InputLayer)         (None, 4, 400, 300, 3)    0         \n",
      "_________________________________________________________________\n",
      "time_distributed_1 (TimeDist (None, 4, 2048)           23587712  \n",
      "_________________________________________________________________\n",
      "flatten_1 (Flatten)          (None, 8192)              0         \n",
      "_________________________________________________________________\n",
      "dense_1 (Dense)              (None, 1024)              8389632   \n",
      "_________________________________________________________________\n",
      "dense_2 (Dense)              (None, 512)               524800    \n",
      "_________________________________________________________________\n",
      "dense_3 (Dense)              (None, 2)                 1026      \n",
      "_________________________________________________________________\n",
      "re_lu_1 (ReLU)               (None, 2)                 0         \n",
      "=================================================================\n",
      "Total params: 32,503,170\n",
      "Trainable params: 32,450,050\n",
      "Non-trainable params: 53,120\n",
      "_________________________________________________________________\n"
     ]
    }
   ],
   "source": [
    "model.compile(optimizer='adam', loss='mse')\n",
    "model.summary()"
   ]
  },
  {
   "cell_type": "code",
   "execution_count": 13,
   "metadata": {},
   "outputs": [
    {
     "name": "stdout",
     "output_type": "stream",
     "text": [
      "Epoch 1/10\n",
      "45/45 [==============================] - 8s 170ms/step - loss: 0.2634\n",
      "Epoch 2/10\n",
      "45/45 [==============================] - 7s 165ms/step - loss: 0.2634\n",
      "Epoch 3/10\n",
      "45/45 [==============================] - 7s 164ms/step - loss: 0.2634\n",
      "Epoch 4/10\n",
      "45/45 [==============================] - 8s 173ms/step - loss: 0.2634\n",
      "Epoch 5/10\n",
      "45/45 [==============================] - 8s 173ms/step - loss: 0.2634\n",
      "Epoch 6/10\n",
      "45/45 [==============================] - 8s 173ms/step - loss: 0.2634\n",
      "Epoch 7/10\n",
      "45/45 [==============================] - 8s 172ms/step - loss: 0.2634\n",
      "Epoch 8/10\n",
      "45/45 [==============================] - 8s 172ms/step - loss: 0.2634\n",
      "Epoch 9/10\n",
      "45/45 [==============================] - 8s 175ms/step - loss: 0.2634\n",
      "Epoch 10/10\n",
      "45/45 [==============================] - 8s 174ms/step - loss: 0.2634\n"
     ]
    }
   ],
   "source": [
    "hist = model.fit(imgs,labs,batch_size= 1,epochs =10)"
   ]
  },
  {
   "cell_type": "code",
   "execution_count": 8,
   "metadata": {},
   "outputs": [
    {
     "name": "stdout",
     "output_type": "stream",
     "text": [
      "45/45 [==============================] - 3s 75ms/step\n"
     ]
    },
    {
     "data": {
      "text/plain": [
       "0.26340145137574938"
      ]
     },
     "execution_count": 8,
     "metadata": {},
     "output_type": "execute_result"
    }
   ],
   "source": [
    "model.evaluate(imgs,labs)"
   ]
  },
  {
   "cell_type": "code",
   "execution_count": 11,
   "metadata": {},
   "outputs": [
    {
     "data": {
      "text/plain": [
       "array([[ 0.,  1.]], dtype=float32)"
      ]
     },
     "execution_count": 11,
     "metadata": {},
     "output_type": "execute_result"
    }
   ],
   "source": [
    "model.predict(imgs[[2]])"
   ]
  },
  {
   "cell_type": "code",
   "execution_count": 12,
   "metadata": {},
   "outputs": [
    {
     "data": {
      "text/plain": [
       "array([ 0.50130208,  0.38020833])"
      ]
     },
     "execution_count": 12,
     "metadata": {},
     "output_type": "execute_result"
    }
   ],
   "source": [
    "labs[0]"
   ]
  },
  {
   "cell_type": "code",
   "execution_count": null,
   "metadata": {},
   "outputs": [],
   "source": []
  }
 ],
 "metadata": {
  "kernelspec": {
   "display_name": "Python 3",
   "language": "python",
   "name": "python3"
  },
  "language_info": {
   "codemirror_mode": {
    "name": "ipython",
    "version": 3
   },
   "file_extension": ".py",
   "mimetype": "text/x-python",
   "name": "python",
   "nbconvert_exporter": "python",
   "pygments_lexer": "ipython3",
   "version": "3.5.2"
  }
 },
 "nbformat": 4,
 "nbformat_minor": 2
}
